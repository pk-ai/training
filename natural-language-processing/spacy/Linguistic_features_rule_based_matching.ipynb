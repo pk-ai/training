{
 "cells": [
  {
   "cell_type": "markdown",
   "metadata": {},
   "source": [
    "# Rule based Matching in Linguistic Features\n",
    "\n",
    "Link [here](https://spacy.io/usage/linguistic-features#rule-based-matching)"
   ]
  },
  {
   "cell_type": "code",
   "execution_count": 1,
   "metadata": {},
   "outputs": [],
   "source": [
    "# Adding Patterns https://spacy.io/usage/linguistic-features#adding-patterns\n",
    "\n",
    "# Importing spaCy\n",
    "import spacy"
   ]
  },
  {
   "cell_type": "code",
   "execution_count": 2,
   "metadata": {},
   "outputs": [],
   "source": [
    "# Load the language model\n",
    "nlp = spacy.load('en')"
   ]
  },
  {
   "cell_type": "code",
   "execution_count": 3,
   "metadata": {},
   "outputs": [
    {
     "name": "stdout",
     "output_type": "stream",
     "text": [
      "first sentence match - [(15578876784678163569, 0, 3)]\n"
     ]
    }
   ],
   "source": [
    "# Importing Matcher from spacy\n",
    "from spacy.matcher import Matcher\n",
    "\n",
    "# The matcher must always share the same vocab with the documents it will operate on.\n",
    "matcher = Matcher(nlp.vocab)\n",
    "# add match ID \"HelloWorld\" with no callback and one pattern\n",
    "pattern = [{'LOWER': 'hello'}, {'IS_PUNCT': True}, {'LOWER': 'world'}]\n",
    "\n",
    "# The second argument lets you pass in an optional callback function \"on_match\" to invoke on a successful match.\n",
    "matcher.add('HelloWorld', None, pattern)\n",
    "\n",
    "# Getting the document from the sentence\n",
    "doc = nlp(u'Hello, world! Hello world!')\n",
    "\n",
    "# the matcher will only return the matches and not do anything else, like merge entities or assign labels\n",
    "# we can implement custom logic by passing in a callback function as the on_match argument on add()\n",
    "matches = matcher(doc)\n",
    "\n",
    "# TODO: spacy.io Documentation update, it refers as [('HelloWorld', 0, 2)]\n",
    "print('first sentence match -', matches)\n",
    "# Should match and return the result, TODO: Should it return 2 ?\n",
    "assert len(matches) == 1\n",
    "\n",
    "# New sentence which doesnt match the matcher\n",
    "# TODO: this seems to be the 64bit hash id, use stringstore to retrieve the original string ?\n",
    "doc = nlp(u'another arbitary sentence')\n",
    "matches = matcher(doc)\n",
    "assert len(matches) == 0"
   ]
  },
  {
   "cell_type": "code",
   "execution_count": 4,
   "metadata": {},
   "outputs": [
    {
     "name": "stdout",
     "output_type": "stream",
     "text": [
      "Patterns -  ['Barack Obama', 'Angela Merkel', 'Washington, D.C.']\n",
      "Matches  [(3766102292120407359, 2, 4), (3766102292120407359, 7, 9), (3766102292120407359, 19, 22)]\n"
     ]
    }
   ],
   "source": [
    "# Adding Phrase Patterns\n",
    "\n",
    "# If you need to match large terminology lists, prefer to use PhraseMatcher\n",
    "\n",
    "# Importing PhraseMatcher from spacy\n",
    "from spacy.matcher import PhraseMatcher\n",
    "\n",
    "# Creating new PhraseMatcher\n",
    "matcher = PhraseMatcher(nlp.vocab)\n",
    "# Preparing terminology list\n",
    "terminology_list = ['Barack Obama', 'Angela Merkel', 'Washington, D.C.']\n",
    "# Preparing the patterns\n",
    "\n",
    "patterns = [nlp(text) for text in terminology_list]\n",
    "print('Patterns - ', [patrn.text for patrn in patterns])\n",
    "# Adding to matcher\n",
    "matcher.add('TerminologyList', None, *patterns)\n",
    "\n",
    "doc = nlp(u\"German Chancellor Angela Merkel and US President Barack Obama \"\n",
    "          u\"converse in the Oval Office inside the White House in Washington, D.C.\")\n",
    "matches = matcher(doc)\n",
    "# TODO: Why all them matched with same id?\n",
    "print('Matches ', matches)"
   ]
  },
  {
   "cell_type": "code",
   "execution_count": 5,
   "metadata": {},
   "outputs": [],
   "source": [
    "# Adding on_match rules\n",
    "# https://spacy.io/usage/linguistic-features#on_match"
   ]
  }
 ],
 "metadata": {
  "kernelspec": {
   "display_name": "Python 3",
   "language": "python",
   "name": "python3"
  },
  "language_info": {
   "codemirror_mode": {
    "name": "ipython",
    "version": 3
   },
   "file_extension": ".py",
   "mimetype": "text/x-python",
   "name": "python",
   "nbconvert_exporter": "python",
   "pygments_lexer": "ipython3",
   "version": "3.6.4"
  }
 },
 "nbformat": 4,
 "nbformat_minor": 2
}
