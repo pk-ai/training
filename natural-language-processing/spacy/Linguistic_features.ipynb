{
 "cells": [
  {
   "cell_type": "code",
   "execution_count": 1,
   "metadata": {},
   "outputs": [],
   "source": [
    "# https://spacy.io/usage/linguistic-features\n",
    "# Importing spacy\n",
    "import spacy"
   ]
  },
  {
   "cell_type": "code",
   "execution_count": 2,
   "metadata": {},
   "outputs": [],
   "source": [
    "# Loading language model\n",
    "nlp = spacy.load('en')"
   ]
  },
  {
   "cell_type": "code",
   "execution_count": 3,
   "metadata": {},
   "outputs": [
    {
     "name": "stdout",
     "output_type": "stream",
     "text": [
      "Text - Autonomous cars | Root Text - cars | Root Dep - nsubj | Root Head text shift\n",
      "Dep Explanation - nsubj - nominal subject \n",
      "\n",
      "Text - insurance liability | Root Text - liability | Root Dep - dobj | Root Head text shift\n",
      "Dep Explanation - dobj - direct object \n",
      "\n",
      "Text - manufacturers | Root Text - manufacturers | Root Dep - pobj | Root Head text toward\n",
      "Dep Explanation - pobj - object of preposition \n",
      "\n"
     ]
    }
   ],
   "source": [
    "# Noun Chunks\n",
    "\n",
    "doc = nlp(u'Autonomous cars shift insurance liability toward manufacturers')\n",
    "\n",
    "# Text: The original noun chunk text.\n",
    "# Root text: The original text of the word connecting the noun chunk to the rest of the parse.\n",
    "# Root dep: Dependency relation connecting the root to its head.\n",
    "# Root head text: The text of the root token's head.\n",
    "\n",
    "for chunk in doc.noun_chunks:\n",
    "    # Printing the attributes of chunk\n",
    "    print('Text -', chunk.text, '|', 'Root Text -', chunk.root.text, '|',\n",
    "          'Root Dep -', chunk.root.dep_, '|', 'Root Head text', chunk.root.head.text)\n",
    "    # Printing the explanation of root dep of chunk\n",
    "    print('Dep Explanation -', chunk.root.dep_ ,'-', spacy.explain(chunk.root.dep_), '\\n')"
   ]
  },
  {
   "cell_type": "code",
   "execution_count": null,
   "metadata": {},
   "outputs": [],
   "source": []
  }
 ],
 "metadata": {
  "kernelspec": {
   "display_name": "Python 3",
   "language": "python",
   "name": "python3"
  },
  "language_info": {
   "codemirror_mode": {
    "name": "ipython",
    "version": 3
   },
   "file_extension": ".py",
   "mimetype": "text/x-python",
   "name": "python",
   "nbconvert_exporter": "python",
   "pygments_lexer": "ipython3",
   "version": "3.6.4"
  }
 },
 "nbformat": 4,
 "nbformat_minor": 2
}
